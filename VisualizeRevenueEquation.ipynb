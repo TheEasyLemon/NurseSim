{
 "cells": [
  {
   "cell_type": "markdown",
   "id": "283081e0",
   "metadata": {},
   "source": [
    "# Visualizing the Revenue Equation\n",
    "\n",
    "We want a way to visualize the revenue equation of the revenue management problem. When we take a step in our optimization, we want to see the benefit symbolically.\n",
    "\n",
    "This notebook serves as a playground to work with the problem and visualize the mathematical nature of the optimization."
   ]
  },
  {
   "cell_type": "code",
   "execution_count": 1,
   "id": "8d40af41",
   "metadata": {},
   "outputs": [],
   "source": [
    "# Python stdlib imports\n",
    "from itertools import combinations\n",
    "\n",
    "# library imports\n",
    "import numpy as np\n",
    "from sympy import *\n",
    "from sympy.matrices.dense import matrix_multiply_elementwise\n",
    "\n",
    "# IPython imports (for LaTeX)\n",
    "from IPython.display import display, Latex"
   ]
  },
  {
   "cell_type": "markdown",
   "id": "590f8b74",
   "metadata": {},
   "source": [
    "## Utility Functions"
   ]
  },
  {
   "cell_type": "code",
   "execution_count": 2,
   "id": "1e9f865c",
   "metadata": {},
   "outputs": [],
   "source": [
    "def generate_random_pi(m, n):\n",
    "    P = np.random.rand(m, n).round(1)\n",
    "    Q = np.random.rand(m, n).round(1)\n",
    "    R = np.random.rand(m, n).round(1) * 10\n",
    "    N = np.random.randint(1, m, size=(n, ), dtype=np.int64)\n",
    "    return (P, Q, R, N)"
   ]
  },
  {
   "cell_type": "markdown",
   "id": "2f493fdd",
   "metadata": {},
   "source": [
    "## Symbolic Manipulation Functions"
   ]
  },
  {
   "cell_type": "code",
   "execution_count": 3,
   "id": "7f3e8aaf",
   "metadata": {},
   "outputs": [],
   "source": [
    "def calculate_symbolic_availability(p, y, N):\n",
    "    m = len(p)\n",
    "    a = Matrix(np.zeros(m))\n",
    "\n",
    "    # first N nurses get availability 1\n",
    "    for i in range(N):\n",
    "        a[i] = 1\n",
    "\n",
    "    # for N_j = 1\n",
    "    for i in range(1, m):\n",
    "        a[i] += (1 - p[i - 1] * y[i - 1]) * a[i - 1]\n",
    "\n",
    "    # for N_j = 2 and above\n",
    "    for n in range(1, N):\n",
    "        for i in range(n + 1, m):\n",
    "            for tup in combinations(range(i), n):\n",
    "                prob = 1\n",
    "                for k in range(i):\n",
    "                    if k in tup:\n",
    "                        prob *= p[k] * y[k]\n",
    "                    else:\n",
    "                        prob *= (1 - p[k] * y[k])\n",
    "                a[i] += prob\n",
    "\n",
    "    # enforce first N nurses get availability 1\n",
    "    for i in range(N):\n",
    "        a[i] = 1\n",
    "        \n",
    "    return a"
   ]
  },
  {
   "cell_type": "code",
   "execution_count": 4,
   "id": "8ce149cc",
   "metadata": {},
   "outputs": [],
   "source": [
    "def show_revenue_function(m, symbolic_parameters=True):\n",
    "    # generate the revenue function for a given problem with only one shift\n",
    "    P, Q, R, N = generate_random_pi(m, 1)\n",
    "    # value (v) = p * q * r\n",
    "    V = P * Q * R\n",
    "    \n",
    "    # the shift that we want to focus on\n",
    "    shift = 0\n",
    "    \n",
    "    # the number of nurses for this shift\n",
    "    N = N[shift]\n",
    "\n",
    "    # r = v * y * a\n",
    "    v = Matrix(symbols(f'v0:{m}')) if symbolic_parameters else Matrix(V[:, shift].reshape(m))\n",
    "    y = Matrix(symbols(f'y0:{m}'))\n",
    "    p = Matrix(symbols(f'p0:{m}')) if symbolic_parameters else Matrix(P[:, shift].reshape(m))\n",
    "\n",
    "    # now, we calculate a\n",
    "    a = calculate_symbolic_availability(p, y, N)\n",
    "\n",
    "    vy = matrix_multiply_elementwise(v, y)\n",
    "    r = sum(matrix_multiply_elementwise(a, vy))\n",
    "\n",
    "    print('For the problem with P, Q, R, and N shown below:')\n",
    "    print('P:')\n",
    "    print(P, '\\n')\n",
    "    print('Q:')\n",
    "    print(Q, '\\n')\n",
    "    print('R:')\n",
    "    print(R, '\\n')\n",
    "    print('N:')\n",
    "    print(N, '\\n')\n",
    "    display(Latex(f'${latex(r)}$'))"
   ]
  },
  {
   "cell_type": "markdown",
   "id": "6c291238",
   "metadata": {},
   "source": [
    "## Experimentation"
   ]
  },
  {
   "cell_type": "code",
   "execution_count": 13,
   "id": "03c17cbf",
   "metadata": {},
   "outputs": [
    {
     "name": "stdout",
     "output_type": "stream",
     "text": [
      "For the problem with P, Q, R, and N shown below:\n",
      "P:\n",
      "[[0.8]\n",
      " [0.4]\n",
      " [0.4]\n",
      " [0.8]\n",
      " [0.8]\n",
      " [0.9]\n",
      " [0.4]\n",
      " [0.4]\n",
      " [0.9]\n",
      " [0.7]] \n",
      "\n",
      "Q:\n",
      "[[0.1]\n",
      " [0.4]\n",
      " [1. ]\n",
      " [0.8]\n",
      " [0.5]\n",
      " [0.8]\n",
      " [0.1]\n",
      " [0.2]\n",
      " [0.8]\n",
      " [0.7]] \n",
      "\n",
      "R:\n",
      "[[10.]\n",
      " [ 5.]\n",
      " [ 7.]\n",
      " [ 7.]\n",
      " [ 7.]\n",
      " [ 5.]\n",
      " [10.]\n",
      " [ 3.]\n",
      " [ 8.]\n",
      " [10.]] \n",
      "\n",
      "N:\n",
      "3 \n",
      "\n"
     ]
    },
    {
     "data": {
      "text/latex": [
       "$0.8 y_{0} + 0.8 y_{1} + 2.8 y_{2} + 4.48 y_{3} \\cdot \\left(0.32 y_{0} y_{1} \\cdot \\left(1 - 0.4 y_{2}\\right) + 0.32 y_{0} y_{2} \\cdot \\left(1 - 0.4 y_{1}\\right) + 0.8 y_{0} \\cdot \\left(1 - 0.4 y_{1}\\right) \\left(1 - 0.4 y_{2}\\right) + 0.16 y_{1} y_{2} \\cdot \\left(1 - 0.8 y_{0}\\right) + 0.4 y_{1} \\cdot \\left(1 - 0.8 y_{0}\\right) \\left(1 - 0.4 y_{2}\\right) + 0.4 y_{2} \\cdot \\left(1 - 0.8 y_{0}\\right) \\left(1 - 0.4 y_{1}\\right) + \\left(1 - 0.4 y_{2}\\right) \\left(\\left(1 - 0.4 y_{1}\\right) \\left(2 - 0.8 y_{0}\\right) + 1\\right)\\right) + 2.8 y_{4} \\cdot \\left(0.32 y_{0} y_{1} \\cdot \\left(1 - 0.4 y_{2}\\right) \\left(1 - 0.8 y_{3}\\right) + 0.32 y_{0} y_{2} \\cdot \\left(1 - 0.4 y_{1}\\right) \\left(1 - 0.8 y_{3}\\right) + 0.64 y_{0} y_{3} \\cdot \\left(1 - 0.4 y_{1}\\right) \\left(1 - 0.4 y_{2}\\right) + 0.8 y_{0} \\cdot \\left(1 - 0.4 y_{1}\\right) \\left(1 - 0.4 y_{2}\\right) \\left(1 - 0.8 y_{3}\\right) + 0.16 y_{1} y_{2} \\cdot \\left(1 - 0.8 y_{0}\\right) \\left(1 - 0.8 y_{3}\\right) + 0.32 y_{1} y_{3} \\cdot \\left(1 - 0.8 y_{0}\\right) \\left(1 - 0.4 y_{2}\\right) + 0.4 y_{1} \\cdot \\left(1 - 0.8 y_{0}\\right) \\left(1 - 0.4 y_{2}\\right) \\left(1 - 0.8 y_{3}\\right) + 0.32 y_{2} y_{3} \\cdot \\left(1 - 0.8 y_{0}\\right) \\left(1 - 0.4 y_{1}\\right) + 0.4 y_{2} \\cdot \\left(1 - 0.8 y_{0}\\right) \\left(1 - 0.4 y_{1}\\right) \\left(1 - 0.8 y_{3}\\right) + 0.8 y_{3} \\cdot \\left(1 - 0.8 y_{0}\\right) \\left(1 - 0.4 y_{1}\\right) \\left(1 - 0.4 y_{2}\\right) + \\left(1 - 0.4 y_{2}\\right) \\left(1 - 0.8 y_{3}\\right) \\left(\\left(1 - 0.4 y_{1}\\right) \\left(2 - 0.8 y_{0}\\right) + 1\\right)\\right) + 3.6 y_{5} \\cdot \\left(0.32 y_{0} y_{1} \\cdot \\left(1 - 0.4 y_{2}\\right) \\left(1 - 0.8 y_{3}\\right) \\left(1 - 0.8 y_{4}\\right) + 0.32 y_{0} y_{2} \\cdot \\left(1 - 0.4 y_{1}\\right) \\left(1 - 0.8 y_{3}\\right) \\left(1 - 0.8 y_{4}\\right) + 0.64 y_{0} y_{3} \\cdot \\left(1 - 0.4 y_{1}\\right) \\left(1 - 0.4 y_{2}\\right) \\left(1 - 0.8 y_{4}\\right) + 0.64 y_{0} y_{4} \\cdot \\left(1 - 0.4 y_{1}\\right) \\left(1 - 0.4 y_{2}\\right) \\left(1 - 0.8 y_{3}\\right) + 0.8 y_{0} \\cdot \\left(1 - 0.4 y_{1}\\right) \\left(1 - 0.4 y_{2}\\right) \\left(1 - 0.8 y_{3}\\right) \\left(1 - 0.8 y_{4}\\right) + 0.16 y_{1} y_{2} \\cdot \\left(1 - 0.8 y_{0}\\right) \\left(1 - 0.8 y_{3}\\right) \\left(1 - 0.8 y_{4}\\right) + 0.32 y_{1} y_{3} \\cdot \\left(1 - 0.8 y_{0}\\right) \\left(1 - 0.4 y_{2}\\right) \\left(1 - 0.8 y_{4}\\right) + 0.32 y_{1} y_{4} \\cdot \\left(1 - 0.8 y_{0}\\right) \\left(1 - 0.4 y_{2}\\right) \\left(1 - 0.8 y_{3}\\right) + 0.4 y_{1} \\cdot \\left(1 - 0.8 y_{0}\\right) \\left(1 - 0.4 y_{2}\\right) \\left(1 - 0.8 y_{3}\\right) \\left(1 - 0.8 y_{4}\\right) + 0.32 y_{2} y_{3} \\cdot \\left(1 - 0.8 y_{0}\\right) \\left(1 - 0.4 y_{1}\\right) \\left(1 - 0.8 y_{4}\\right) + 0.32 y_{2} y_{4} \\cdot \\left(1 - 0.8 y_{0}\\right) \\left(1 - 0.4 y_{1}\\right) \\left(1 - 0.8 y_{3}\\right) + 0.4 y_{2} \\cdot \\left(1 - 0.8 y_{0}\\right) \\left(1 - 0.4 y_{1}\\right) \\left(1 - 0.8 y_{3}\\right) \\left(1 - 0.8 y_{4}\\right) + 0.64 y_{3} y_{4} \\cdot \\left(1 - 0.8 y_{0}\\right) \\left(1 - 0.4 y_{1}\\right) \\left(1 - 0.4 y_{2}\\right) + 0.8 y_{3} \\cdot \\left(1 - 0.8 y_{0}\\right) \\left(1 - 0.4 y_{1}\\right) \\left(1 - 0.4 y_{2}\\right) \\left(1 - 0.8 y_{4}\\right) + 0.8 y_{4} \\cdot \\left(1 - 0.8 y_{0}\\right) \\left(1 - 0.4 y_{1}\\right) \\left(1 - 0.4 y_{2}\\right) \\left(1 - 0.8 y_{3}\\right) + \\left(1 - 0.4 y_{2}\\right) \\left(1 - 0.8 y_{3}\\right) \\left(1 - 0.8 y_{4}\\right) \\left(\\left(1 - 0.4 y_{1}\\right) \\left(2 - 0.8 y_{0}\\right) + 1\\right)\\right) + 0.4 y_{6} \\cdot \\left(0.32 y_{0} y_{1} \\cdot \\left(1 - 0.4 y_{2}\\right) \\left(1 - 0.8 y_{3}\\right) \\left(1 - 0.8 y_{4}\\right) \\left(1 - 0.9 y_{5}\\right) + 0.32 y_{0} y_{2} \\cdot \\left(1 - 0.4 y_{1}\\right) \\left(1 - 0.8 y_{3}\\right) \\left(1 - 0.8 y_{4}\\right) \\left(1 - 0.9 y_{5}\\right) + 0.64 y_{0} y_{3} \\cdot \\left(1 - 0.4 y_{1}\\right) \\left(1 - 0.4 y_{2}\\right) \\left(1 - 0.8 y_{4}\\right) \\left(1 - 0.9 y_{5}\\right) + 0.64 y_{0} y_{4} \\cdot \\left(1 - 0.4 y_{1}\\right) \\left(1 - 0.4 y_{2}\\right) \\left(1 - 0.8 y_{3}\\right) \\left(1 - 0.9 y_{5}\\right) + 0.72 y_{0} y_{5} \\cdot \\left(1 - 0.4 y_{1}\\right) \\left(1 - 0.4 y_{2}\\right) \\left(1 - 0.8 y_{3}\\right) \\left(1 - 0.8 y_{4}\\right) + 0.8 y_{0} \\cdot \\left(1 - 0.4 y_{1}\\right) \\left(1 - 0.4 y_{2}\\right) \\left(1 - 0.8 y_{3}\\right) \\left(1 - 0.8 y_{4}\\right) \\left(1 - 0.9 y_{5}\\right) + 0.16 y_{1} y_{2} \\cdot \\left(1 - 0.8 y_{0}\\right) \\left(1 - 0.8 y_{3}\\right) \\left(1 - 0.8 y_{4}\\right) \\left(1 - 0.9 y_{5}\\right) + 0.32 y_{1} y_{3} \\cdot \\left(1 - 0.8 y_{0}\\right) \\left(1 - 0.4 y_{2}\\right) \\left(1 - 0.8 y_{4}\\right) \\left(1 - 0.9 y_{5}\\right) + 0.32 y_{1} y_{4} \\cdot \\left(1 - 0.8 y_{0}\\right) \\left(1 - 0.4 y_{2}\\right) \\left(1 - 0.8 y_{3}\\right) \\left(1 - 0.9 y_{5}\\right) + 0.36 y_{1} y_{5} \\cdot \\left(1 - 0.8 y_{0}\\right) \\left(1 - 0.4 y_{2}\\right) \\left(1 - 0.8 y_{3}\\right) \\left(1 - 0.8 y_{4}\\right) + 0.4 y_{1} \\cdot \\left(1 - 0.8 y_{0}\\right) \\left(1 - 0.4 y_{2}\\right) \\left(1 - 0.8 y_{3}\\right) \\left(1 - 0.8 y_{4}\\right) \\left(1 - 0.9 y_{5}\\right) + 0.32 y_{2} y_{3} \\cdot \\left(1 - 0.8 y_{0}\\right) \\left(1 - 0.4 y_{1}\\right) \\left(1 - 0.8 y_{4}\\right) \\left(1 - 0.9 y_{5}\\right) + 0.32 y_{2} y_{4} \\cdot \\left(1 - 0.8 y_{0}\\right) \\left(1 - 0.4 y_{1}\\right) \\left(1 - 0.8 y_{3}\\right) \\left(1 - 0.9 y_{5}\\right) + 0.36 y_{2} y_{5} \\cdot \\left(1 - 0.8 y_{0}\\right) \\left(1 - 0.4 y_{1}\\right) \\left(1 - 0.8 y_{3}\\right) \\left(1 - 0.8 y_{4}\\right) + 0.4 y_{2} \\cdot \\left(1 - 0.8 y_{0}\\right) \\left(1 - 0.4 y_{1}\\right) \\left(1 - 0.8 y_{3}\\right) \\left(1 - 0.8 y_{4}\\right) \\left(1 - 0.9 y_{5}\\right) + 0.64 y_{3} y_{4} \\cdot \\left(1 - 0.8 y_{0}\\right) \\left(1 - 0.4 y_{1}\\right) \\left(1 - 0.4 y_{2}\\right) \\left(1 - 0.9 y_{5}\\right) + 0.72 y_{3} y_{5} \\cdot \\left(1 - 0.8 y_{0}\\right) \\left(1 - 0.4 y_{1}\\right) \\left(1 - 0.4 y_{2}\\right) \\left(1 - 0.8 y_{4}\\right) + 0.8 y_{3} \\cdot \\left(1 - 0.8 y_{0}\\right) \\left(1 - 0.4 y_{1}\\right) \\left(1 - 0.4 y_{2}\\right) \\left(1 - 0.8 y_{4}\\right) \\left(1 - 0.9 y_{5}\\right) + 0.72 y_{4} y_{5} \\cdot \\left(1 - 0.8 y_{0}\\right) \\left(1 - 0.4 y_{1}\\right) \\left(1 - 0.4 y_{2}\\right) \\left(1 - 0.8 y_{3}\\right) + 0.8 y_{4} \\cdot \\left(1 - 0.8 y_{0}\\right) \\left(1 - 0.4 y_{1}\\right) \\left(1 - 0.4 y_{2}\\right) \\left(1 - 0.8 y_{3}\\right) \\left(1 - 0.9 y_{5}\\right) + 0.9 y_{5} \\cdot \\left(1 - 0.8 y_{0}\\right) \\left(1 - 0.4 y_{1}\\right) \\left(1 - 0.4 y_{2}\\right) \\left(1 - 0.8 y_{3}\\right) \\left(1 - 0.8 y_{4}\\right) + \\left(1 - 0.4 y_{2}\\right) \\left(1 - 0.8 y_{3}\\right) \\left(1 - 0.8 y_{4}\\right) \\left(1 - 0.9 y_{5}\\right) \\left(\\left(1 - 0.4 y_{1}\\right) \\left(2 - 0.8 y_{0}\\right) + 1\\right)\\right) + 0.24 y_{7} \\cdot \\left(0.32 y_{0} y_{1} \\cdot \\left(1 - 0.4 y_{2}\\right) \\left(1 - 0.8 y_{3}\\right) \\left(1 - 0.8 y_{4}\\right) \\left(1 - 0.9 y_{5}\\right) \\left(1 - 0.4 y_{6}\\right) + 0.32 y_{0} y_{2} \\cdot \\left(1 - 0.4 y_{1}\\right) \\left(1 - 0.8 y_{3}\\right) \\left(1 - 0.8 y_{4}\\right) \\left(1 - 0.9 y_{5}\\right) \\left(1 - 0.4 y_{6}\\right) + 0.64 y_{0} y_{3} \\cdot \\left(1 - 0.4 y_{1}\\right) \\left(1 - 0.4 y_{2}\\right) \\left(1 - 0.8 y_{4}\\right) \\left(1 - 0.9 y_{5}\\right) \\left(1 - 0.4 y_{6}\\right) + 0.64 y_{0} y_{4} \\cdot \\left(1 - 0.4 y_{1}\\right) \\left(1 - 0.4 y_{2}\\right) \\left(1 - 0.8 y_{3}\\right) \\left(1 - 0.9 y_{5}\\right) \\left(1 - 0.4 y_{6}\\right) + 0.72 y_{0} y_{5} \\cdot \\left(1 - 0.4 y_{1}\\right) \\left(1 - 0.4 y_{2}\\right) \\left(1 - 0.8 y_{3}\\right) \\left(1 - 0.8 y_{4}\\right) \\left(1 - 0.4 y_{6}\\right) + 0.32 y_{0} y_{6} \\cdot \\left(1 - 0.4 y_{1}\\right) \\left(1 - 0.4 y_{2}\\right) \\left(1 - 0.8 y_{3}\\right) \\left(1 - 0.8 y_{4}\\right) \\left(1 - 0.9 y_{5}\\right) + 0.8 y_{0} \\cdot \\left(1 - 0.4 y_{1}\\right) \\left(1 - 0.4 y_{2}\\right) \\left(1 - 0.8 y_{3}\\right) \\left(1 - 0.8 y_{4}\\right) \\left(1 - 0.9 y_{5}\\right) \\left(1 - 0.4 y_{6}\\right) + 0.16 y_{1} y_{2} \\cdot \\left(1 - 0.8 y_{0}\\right) \\left(1 - 0.8 y_{3}\\right) \\left(1 - 0.8 y_{4}\\right) \\left(1 - 0.9 y_{5}\\right) \\left(1 - 0.4 y_{6}\\right) + 0.32 y_{1} y_{3} \\cdot \\left(1 - 0.8 y_{0}\\right) \\left(1 - 0.4 y_{2}\\right) \\left(1 - 0.8 y_{4}\\right) \\left(1 - 0.9 y_{5}\\right) \\left(1 - 0.4 y_{6}\\right) + 0.32 y_{1} y_{4} \\cdot \\left(1 - 0.8 y_{0}\\right) \\left(1 - 0.4 y_{2}\\right) \\left(1 - 0.8 y_{3}\\right) \\left(1 - 0.9 y_{5}\\right) \\left(1 - 0.4 y_{6}\\right) + 0.36 y_{1} y_{5} \\cdot \\left(1 - 0.8 y_{0}\\right) \\left(1 - 0.4 y_{2}\\right) \\left(1 - 0.8 y_{3}\\right) \\left(1 - 0.8 y_{4}\\right) \\left(1 - 0.4 y_{6}\\right) + 0.16 y_{1} y_{6} \\cdot \\left(1 - 0.8 y_{0}\\right) \\left(1 - 0.4 y_{2}\\right) \\left(1 - 0.8 y_{3}\\right) \\left(1 - 0.8 y_{4}\\right) \\left(1 - 0.9 y_{5}\\right) + 0.4 y_{1} \\cdot \\left(1 - 0.8 y_{0}\\right) \\left(1 - 0.4 y_{2}\\right) \\left(1 - 0.8 y_{3}\\right) \\left(1 - 0.8 y_{4}\\right) \\left(1 - 0.9 y_{5}\\right) \\left(1 - 0.4 y_{6}\\right) + 0.32 y_{2} y_{3} \\cdot \\left(1 - 0.8 y_{0}\\right) \\left(1 - 0.4 y_{1}\\right) \\left(1 - 0.8 y_{4}\\right) \\left(1 - 0.9 y_{5}\\right) \\left(1 - 0.4 y_{6}\\right) + 0.32 y_{2} y_{4} \\cdot \\left(1 - 0.8 y_{0}\\right) \\left(1 - 0.4 y_{1}\\right) \\left(1 - 0.8 y_{3}\\right) \\left(1 - 0.9 y_{5}\\right) \\left(1 - 0.4 y_{6}\\right) + 0.36 y_{2} y_{5} \\cdot \\left(1 - 0.8 y_{0}\\right) \\left(1 - 0.4 y_{1}\\right) \\left(1 - 0.8 y_{3}\\right) \\left(1 - 0.8 y_{4}\\right) \\left(1 - 0.4 y_{6}\\right) + 0.16 y_{2} y_{6} \\cdot \\left(1 - 0.8 y_{0}\\right) \\left(1 - 0.4 y_{1}\\right) \\left(1 - 0.8 y_{3}\\right) \\left(1 - 0.8 y_{4}\\right) \\left(1 - 0.9 y_{5}\\right) + 0.4 y_{2} \\cdot \\left(1 - 0.8 y_{0}\\right) \\left(1 - 0.4 y_{1}\\right) \\left(1 - 0.8 y_{3}\\right) \\left(1 - 0.8 y_{4}\\right) \\left(1 - 0.9 y_{5}\\right) \\left(1 - 0.4 y_{6}\\right) + 0.64 y_{3} y_{4} \\cdot \\left(1 - 0.8 y_{0}\\right) \\left(1 - 0.4 y_{1}\\right) \\left(1 - 0.4 y_{2}\\right) \\left(1 - 0.9 y_{5}\\right) \\left(1 - 0.4 y_{6}\\right) + 0.72 y_{3} y_{5} \\cdot \\left(1 - 0.8 y_{0}\\right) \\left(1 - 0.4 y_{1}\\right) \\left(1 - 0.4 y_{2}\\right) \\left(1 - 0.8 y_{4}\\right) \\left(1 - 0.4 y_{6}\\right) + 0.32 y_{3} y_{6} \\cdot \\left(1 - 0.8 y_{0}\\right) \\left(1 - 0.4 y_{1}\\right) \\left(1 - 0.4 y_{2}\\right) \\left(1 - 0.8 y_{4}\\right) \\left(1 - 0.9 y_{5}\\right) + 0.8 y_{3} \\cdot \\left(1 - 0.8 y_{0}\\right) \\left(1 - 0.4 y_{1}\\right) \\left(1 - 0.4 y_{2}\\right) \\left(1 - 0.8 y_{4}\\right) \\left(1 - 0.9 y_{5}\\right) \\left(1 - 0.4 y_{6}\\right) + 0.72 y_{4} y_{5} \\cdot \\left(1 - 0.8 y_{0}\\right) \\left(1 - 0.4 y_{1}\\right) \\left(1 - 0.4 y_{2}\\right) \\left(1 - 0.8 y_{3}\\right) \\left(1 - 0.4 y_{6}\\right) + 0.32 y_{4} y_{6} \\cdot \\left(1 - 0.8 y_{0}\\right) \\left(1 - 0.4 y_{1}\\right) \\left(1 - 0.4 y_{2}\\right) \\left(1 - 0.8 y_{3}\\right) \\left(1 - 0.9 y_{5}\\right) + 0.8 y_{4} \\cdot \\left(1 - 0.8 y_{0}\\right) \\left(1 - 0.4 y_{1}\\right) \\left(1 - 0.4 y_{2}\\right) \\left(1 - 0.8 y_{3}\\right) \\left(1 - 0.9 y_{5}\\right) \\left(1 - 0.4 y_{6}\\right) + 0.36 y_{5} y_{6} \\cdot \\left(1 - 0.8 y_{0}\\right) \\left(1 - 0.4 y_{1}\\right) \\left(1 - 0.4 y_{2}\\right) \\left(1 - 0.8 y_{3}\\right) \\left(1 - 0.8 y_{4}\\right) + 0.9 y_{5} \\cdot \\left(1 - 0.8 y_{0}\\right) \\left(1 - 0.4 y_{1}\\right) \\left(1 - 0.4 y_{2}\\right) \\left(1 - 0.8 y_{3}\\right) \\left(1 - 0.8 y_{4}\\right) \\left(1 - 0.4 y_{6}\\right) + 0.4 y_{6} \\cdot \\left(1 - 0.8 y_{0}\\right) \\left(1 - 0.4 y_{1}\\right) \\left(1 - 0.4 y_{2}\\right) \\left(1 - 0.8 y_{3}\\right) \\left(1 - 0.8 y_{4}\\right) \\left(1 - 0.9 y_{5}\\right) + \\left(1 - 0.4 y_{2}\\right) \\left(1 - 0.8 y_{3}\\right) \\left(1 - 0.8 y_{4}\\right) \\left(1 - 0.9 y_{5}\\right) \\left(1 - 0.4 y_{6}\\right) \\left(\\left(1 - 0.4 y_{1}\\right) \\left(2 - 0.8 y_{0}\\right) + 1\\right)\\right) + 5.76 y_{8} \\cdot \\left(0.32 y_{0} y_{1} \\cdot \\left(1 - 0.4 y_{2}\\right) \\left(1 - 0.8 y_{3}\\right) \\left(1 - 0.8 y_{4}\\right) \\left(1 - 0.9 y_{5}\\right) \\left(1 - 0.4 y_{6}\\right) \\left(1 - 0.4 y_{7}\\right) + 0.32 y_{0} y_{2} \\cdot \\left(1 - 0.4 y_{1}\\right) \\left(1 - 0.8 y_{3}\\right) \\left(1 - 0.8 y_{4}\\right) \\left(1 - 0.9 y_{5}\\right) \\left(1 - 0.4 y_{6}\\right) \\left(1 - 0.4 y_{7}\\right) + 0.64 y_{0} y_{3} \\cdot \\left(1 - 0.4 y_{1}\\right) \\left(1 - 0.4 y_{2}\\right) \\left(1 - 0.8 y_{4}\\right) \\left(1 - 0.9 y_{5}\\right) \\left(1 - 0.4 y_{6}\\right) \\left(1 - 0.4 y_{7}\\right) + 0.64 y_{0} y_{4} \\cdot \\left(1 - 0.4 y_{1}\\right) \\left(1 - 0.4 y_{2}\\right) \\left(1 - 0.8 y_{3}\\right) \\left(1 - 0.9 y_{5}\\right) \\left(1 - 0.4 y_{6}\\right) \\left(1 - 0.4 y_{7}\\right) + 0.72 y_{0} y_{5} \\cdot \\left(1 - 0.4 y_{1}\\right) \\left(1 - 0.4 y_{2}\\right) \\left(1 - 0.8 y_{3}\\right) \\left(1 - 0.8 y_{4}\\right) \\left(1 - 0.4 y_{6}\\right) \\left(1 - 0.4 y_{7}\\right) + 0.32 y_{0} y_{6} \\cdot \\left(1 - 0.4 y_{1}\\right) \\left(1 - 0.4 y_{2}\\right) \\left(1 - 0.8 y_{3}\\right) \\left(1 - 0.8 y_{4}\\right) \\left(1 - 0.9 y_{5}\\right) \\left(1 - 0.4 y_{7}\\right) + 0.32 y_{0} y_{7} \\cdot \\left(1 - 0.4 y_{1}\\right) \\left(1 - 0.4 y_{2}\\right) \\left(1 - 0.8 y_{3}\\right) \\left(1 - 0.8 y_{4}\\right) \\left(1 - 0.9 y_{5}\\right) \\left(1 - 0.4 y_{6}\\right) + 0.8 y_{0} \\cdot \\left(1 - 0.4 y_{1}\\right) \\left(1 - 0.4 y_{2}\\right) \\left(1 - 0.8 y_{3}\\right) \\left(1 - 0.8 y_{4}\\right) \\left(1 - 0.9 y_{5}\\right) \\left(1 - 0.4 y_{6}\\right) \\left(1 - 0.4 y_{7}\\right) + 0.16 y_{1} y_{2} \\cdot \\left(1 - 0.8 y_{0}\\right) \\left(1 - 0.8 y_{3}\\right) \\left(1 - 0.8 y_{4}\\right) \\left(1 - 0.9 y_{5}\\right) \\left(1 - 0.4 y_{6}\\right) \\left(1 - 0.4 y_{7}\\right) + 0.32 y_{1} y_{3} \\cdot \\left(1 - 0.8 y_{0}\\right) \\left(1 - 0.4 y_{2}\\right) \\left(1 - 0.8 y_{4}\\right) \\left(1 - 0.9 y_{5}\\right) \\left(1 - 0.4 y_{6}\\right) \\left(1 - 0.4 y_{7}\\right) + 0.32 y_{1} y_{4} \\cdot \\left(1 - 0.8 y_{0}\\right) \\left(1 - 0.4 y_{2}\\right) \\left(1 - 0.8 y_{3}\\right) \\left(1 - 0.9 y_{5}\\right) \\left(1 - 0.4 y_{6}\\right) \\left(1 - 0.4 y_{7}\\right) + 0.36 y_{1} y_{5} \\cdot \\left(1 - 0.8 y_{0}\\right) \\left(1 - 0.4 y_{2}\\right) \\left(1 - 0.8 y_{3}\\right) \\left(1 - 0.8 y_{4}\\right) \\left(1 - 0.4 y_{6}\\right) \\left(1 - 0.4 y_{7}\\right) + 0.16 y_{1} y_{6} \\cdot \\left(1 - 0.8 y_{0}\\right) \\left(1 - 0.4 y_{2}\\right) \\left(1 - 0.8 y_{3}\\right) \\left(1 - 0.8 y_{4}\\right) \\left(1 - 0.9 y_{5}\\right) \\left(1 - 0.4 y_{7}\\right) + 0.16 y_{1} y_{7} \\cdot \\left(1 - 0.8 y_{0}\\right) \\left(1 - 0.4 y_{2}\\right) \\left(1 - 0.8 y_{3}\\right) \\left(1 - 0.8 y_{4}\\right) \\left(1 - 0.9 y_{5}\\right) \\left(1 - 0.4 y_{6}\\right) + 0.4 y_{1} \\cdot \\left(1 - 0.8 y_{0}\\right) \\left(1 - 0.4 y_{2}\\right) \\left(1 - 0.8 y_{3}\\right) \\left(1 - 0.8 y_{4}\\right) \\left(1 - 0.9 y_{5}\\right) \\left(1 - 0.4 y_{6}\\right) \\left(1 - 0.4 y_{7}\\right) + 0.32 y_{2} y_{3} \\cdot \\left(1 - 0.8 y_{0}\\right) \\left(1 - 0.4 y_{1}\\right) \\left(1 - 0.8 y_{4}\\right) \\left(1 - 0.9 y_{5}\\right) \\left(1 - 0.4 y_{6}\\right) \\left(1 - 0.4 y_{7}\\right) + 0.32 y_{2} y_{4} \\cdot \\left(1 - 0.8 y_{0}\\right) \\left(1 - 0.4 y_{1}\\right) \\left(1 - 0.8 y_{3}\\right) \\left(1 - 0.9 y_{5}\\right) \\left(1 - 0.4 y_{6}\\right) \\left(1 - 0.4 y_{7}\\right) + 0.36 y_{2} y_{5} \\cdot \\left(1 - 0.8 y_{0}\\right) \\left(1 - 0.4 y_{1}\\right) \\left(1 - 0.8 y_{3}\\right) \\left(1 - 0.8 y_{4}\\right) \\left(1 - 0.4 y_{6}\\right) \\left(1 - 0.4 y_{7}\\right) + 0.16 y_{2} y_{6} \\cdot \\left(1 - 0.8 y_{0}\\right) \\left(1 - 0.4 y_{1}\\right) \\left(1 - 0.8 y_{3}\\right) \\left(1 - 0.8 y_{4}\\right) \\left(1 - 0.9 y_{5}\\right) \\left(1 - 0.4 y_{7}\\right) + 0.16 y_{2} y_{7} \\cdot \\left(1 - 0.8 y_{0}\\right) \\left(1 - 0.4 y_{1}\\right) \\left(1 - 0.8 y_{3}\\right) \\left(1 - 0.8 y_{4}\\right) \\left(1 - 0.9 y_{5}\\right) \\left(1 - 0.4 y_{6}\\right) + 0.4 y_{2} \\cdot \\left(1 - 0.8 y_{0}\\right) \\left(1 - 0.4 y_{1}\\right) \\left(1 - 0.8 y_{3}\\right) \\left(1 - 0.8 y_{4}\\right) \\left(1 - 0.9 y_{5}\\right) \\left(1 - 0.4 y_{6}\\right) \\left(1 - 0.4 y_{7}\\right) + 0.64 y_{3} y_{4} \\cdot \\left(1 - 0.8 y_{0}\\right) \\left(1 - 0.4 y_{1}\\right) \\left(1 - 0.4 y_{2}\\right) \\left(1 - 0.9 y_{5}\\right) \\left(1 - 0.4 y_{6}\\right) \\left(1 - 0.4 y_{7}\\right) + 0.72 y_{3} y_{5} \\cdot \\left(1 - 0.8 y_{0}\\right) \\left(1 - 0.4 y_{1}\\right) \\left(1 - 0.4 y_{2}\\right) \\left(1 - 0.8 y_{4}\\right) \\left(1 - 0.4 y_{6}\\right) \\left(1 - 0.4 y_{7}\\right) + 0.32 y_{3} y_{6} \\cdot \\left(1 - 0.8 y_{0}\\right) \\left(1 - 0.4 y_{1}\\right) \\left(1 - 0.4 y_{2}\\right) \\left(1 - 0.8 y_{4}\\right) \\left(1 - 0.9 y_{5}\\right) \\left(1 - 0.4 y_{7}\\right) + 0.32 y_{3} y_{7} \\cdot \\left(1 - 0.8 y_{0}\\right) \\left(1 - 0.4 y_{1}\\right) \\left(1 - 0.4 y_{2}\\right) \\left(1 - 0.8 y_{4}\\right) \\left(1 - 0.9 y_{5}\\right) \\left(1 - 0.4 y_{6}\\right) + 0.8 y_{3} \\cdot \\left(1 - 0.8 y_{0}\\right) \\left(1 - 0.4 y_{1}\\right) \\left(1 - 0.4 y_{2}\\right) \\left(1 - 0.8 y_{4}\\right) \\left(1 - 0.9 y_{5}\\right) \\left(1 - 0.4 y_{6}\\right) \\left(1 - 0.4 y_{7}\\right) + 0.72 y_{4} y_{5} \\cdot \\left(1 - 0.8 y_{0}\\right) \\left(1 - 0.4 y_{1}\\right) \\left(1 - 0.4 y_{2}\\right) \\left(1 - 0.8 y_{3}\\right) \\left(1 - 0.4 y_{6}\\right) \\left(1 - 0.4 y_{7}\\right) + 0.32 y_{4} y_{6} \\cdot \\left(1 - 0.8 y_{0}\\right) \\left(1 - 0.4 y_{1}\\right) \\left(1 - 0.4 y_{2}\\right) \\left(1 - 0.8 y_{3}\\right) \\left(1 - 0.9 y_{5}\\right) \\left(1 - 0.4 y_{7}\\right) + 0.32 y_{4} y_{7} \\cdot \\left(1 - 0.8 y_{0}\\right) \\left(1 - 0.4 y_{1}\\right) \\left(1 - 0.4 y_{2}\\right) \\left(1 - 0.8 y_{3}\\right) \\left(1 - 0.9 y_{5}\\right) \\left(1 - 0.4 y_{6}\\right) + 0.8 y_{4} \\cdot \\left(1 - 0.8 y_{0}\\right) \\left(1 - 0.4 y_{1}\\right) \\left(1 - 0.4 y_{2}\\right) \\left(1 - 0.8 y_{3}\\right) \\left(1 - 0.9 y_{5}\\right) \\left(1 - 0.4 y_{6}\\right) \\left(1 - 0.4 y_{7}\\right) + 0.36 y_{5} y_{6} \\cdot \\left(1 - 0.8 y_{0}\\right) \\left(1 - 0.4 y_{1}\\right) \\left(1 - 0.4 y_{2}\\right) \\left(1 - 0.8 y_{3}\\right) \\left(1 - 0.8 y_{4}\\right) \\left(1 - 0.4 y_{7}\\right) + 0.36 y_{5} y_{7} \\cdot \\left(1 - 0.8 y_{0}\\right) \\left(1 - 0.4 y_{1}\\right) \\left(1 - 0.4 y_{2}\\right) \\left(1 - 0.8 y_{3}\\right) \\left(1 - 0.8 y_{4}\\right) \\left(1 - 0.4 y_{6}\\right) + 0.9 y_{5} \\cdot \\left(1 - 0.8 y_{0}\\right) \\left(1 - 0.4 y_{1}\\right) \\left(1 - 0.4 y_{2}\\right) \\left(1 - 0.8 y_{3}\\right) \\left(1 - 0.8 y_{4}\\right) \\left(1 - 0.4 y_{6}\\right) \\left(1 - 0.4 y_{7}\\right) + 0.16 y_{6} y_{7} \\cdot \\left(1 - 0.8 y_{0}\\right) \\left(1 - 0.4 y_{1}\\right) \\left(1 - 0.4 y_{2}\\right) \\left(1 - 0.8 y_{3}\\right) \\left(1 - 0.8 y_{4}\\right) \\left(1 - 0.9 y_{5}\\right) + 0.4 y_{6} \\cdot \\left(1 - 0.8 y_{0}\\right) \\left(1 - 0.4 y_{1}\\right) \\left(1 - 0.4 y_{2}\\right) \\left(1 - 0.8 y_{3}\\right) \\left(1 - 0.8 y_{4}\\right) \\left(1 - 0.9 y_{5}\\right) \\left(1 - 0.4 y_{7}\\right) + 0.4 y_{7} \\cdot \\left(1 - 0.8 y_{0}\\right) \\left(1 - 0.4 y_{1}\\right) \\left(1 - 0.4 y_{2}\\right) \\left(1 - 0.8 y_{3}\\right) \\left(1 - 0.8 y_{4}\\right) \\left(1 - 0.9 y_{5}\\right) \\left(1 - 0.4 y_{6}\\right) + \\left(1 - 0.4 y_{2}\\right) \\left(1 - 0.8 y_{3}\\right) \\left(1 - 0.8 y_{4}\\right) \\left(1 - 0.9 y_{5}\\right) \\left(1 - 0.4 y_{6}\\right) \\left(1 - 0.4 y_{7}\\right) \\left(\\left(1 - 0.4 y_{1}\\right) \\left(2 - 0.8 y_{0}\\right) + 1\\right)\\right) + 4.9 y_{9} \\cdot \\left(0.32 y_{0} y_{1} \\cdot \\left(1 - 0.4 y_{2}\\right) \\left(1 - 0.8 y_{3}\\right) \\left(1 - 0.8 y_{4}\\right) \\left(1 - 0.9 y_{5}\\right) \\left(1 - 0.4 y_{6}\\right) \\left(1 - 0.4 y_{7}\\right) \\left(1 - 0.9 y_{8}\\right) + 0.32 y_{0} y_{2} \\cdot \\left(1 - 0.4 y_{1}\\right) \\left(1 - 0.8 y_{3}\\right) \\left(1 - 0.8 y_{4}\\right) \\left(1 - 0.9 y_{5}\\right) \\left(1 - 0.4 y_{6}\\right) \\left(1 - 0.4 y_{7}\\right) \\left(1 - 0.9 y_{8}\\right) + 0.64 y_{0} y_{3} \\cdot \\left(1 - 0.4 y_{1}\\right) \\left(1 - 0.4 y_{2}\\right) \\left(1 - 0.8 y_{4}\\right) \\left(1 - 0.9 y_{5}\\right) \\left(1 - 0.4 y_{6}\\right) \\left(1 - 0.4 y_{7}\\right) \\left(1 - 0.9 y_{8}\\right) + 0.64 y_{0} y_{4} \\cdot \\left(1 - 0.4 y_{1}\\right) \\left(1 - 0.4 y_{2}\\right) \\left(1 - 0.8 y_{3}\\right) \\left(1 - 0.9 y_{5}\\right) \\left(1 - 0.4 y_{6}\\right) \\left(1 - 0.4 y_{7}\\right) \\left(1 - 0.9 y_{8}\\right) + 0.72 y_{0} y_{5} \\cdot \\left(1 - 0.4 y_{1}\\right) \\left(1 - 0.4 y_{2}\\right) \\left(1 - 0.8 y_{3}\\right) \\left(1 - 0.8 y_{4}\\right) \\left(1 - 0.4 y_{6}\\right) \\left(1 - 0.4 y_{7}\\right) \\left(1 - 0.9 y_{8}\\right) + 0.32 y_{0} y_{6} \\cdot \\left(1 - 0.4 y_{1}\\right) \\left(1 - 0.4 y_{2}\\right) \\left(1 - 0.8 y_{3}\\right) \\left(1 - 0.8 y_{4}\\right) \\left(1 - 0.9 y_{5}\\right) \\left(1 - 0.4 y_{7}\\right) \\left(1 - 0.9 y_{8}\\right) + 0.32 y_{0} y_{7} \\cdot \\left(1 - 0.4 y_{1}\\right) \\left(1 - 0.4 y_{2}\\right) \\left(1 - 0.8 y_{3}\\right) \\left(1 - 0.8 y_{4}\\right) \\left(1 - 0.9 y_{5}\\right) \\left(1 - 0.4 y_{6}\\right) \\left(1 - 0.9 y_{8}\\right) + 0.72 y_{0} y_{8} \\cdot \\left(1 - 0.4 y_{1}\\right) \\left(1 - 0.4 y_{2}\\right) \\left(1 - 0.8 y_{3}\\right) \\left(1 - 0.8 y_{4}\\right) \\left(1 - 0.9 y_{5}\\right) \\left(1 - 0.4 y_{6}\\right) \\left(1 - 0.4 y_{7}\\right) + 0.8 y_{0} \\cdot \\left(1 - 0.4 y_{1}\\right) \\left(1 - 0.4 y_{2}\\right) \\left(1 - 0.8 y_{3}\\right) \\left(1 - 0.8 y_{4}\\right) \\left(1 - 0.9 y_{5}\\right) \\left(1 - 0.4 y_{6}\\right) \\left(1 - 0.4 y_{7}\\right) \\left(1 - 0.9 y_{8}\\right) + 0.16 y_{1} y_{2} \\cdot \\left(1 - 0.8 y_{0}\\right) \\left(1 - 0.8 y_{3}\\right) \\left(1 - 0.8 y_{4}\\right) \\left(1 - 0.9 y_{5}\\right) \\left(1 - 0.4 y_{6}\\right) \\left(1 - 0.4 y_{7}\\right) \\left(1 - 0.9 y_{8}\\right) + 0.32 y_{1} y_{3} \\cdot \\left(1 - 0.8 y_{0}\\right) \\left(1 - 0.4 y_{2}\\right) \\left(1 - 0.8 y_{4}\\right) \\left(1 - 0.9 y_{5}\\right) \\left(1 - 0.4 y_{6}\\right) \\left(1 - 0.4 y_{7}\\right) \\left(1 - 0.9 y_{8}\\right) + 0.32 y_{1} y_{4} \\cdot \\left(1 - 0.8 y_{0}\\right) \\left(1 - 0.4 y_{2}\\right) \\left(1 - 0.8 y_{3}\\right) \\left(1 - 0.9 y_{5}\\right) \\left(1 - 0.4 y_{6}\\right) \\left(1 - 0.4 y_{7}\\right) \\left(1 - 0.9 y_{8}\\right) + 0.36 y_{1} y_{5} \\cdot \\left(1 - 0.8 y_{0}\\right) \\left(1 - 0.4 y_{2}\\right) \\left(1 - 0.8 y_{3}\\right) \\left(1 - 0.8 y_{4}\\right) \\left(1 - 0.4 y_{6}\\right) \\left(1 - 0.4 y_{7}\\right) \\left(1 - 0.9 y_{8}\\right) + 0.16 y_{1} y_{6} \\cdot \\left(1 - 0.8 y_{0}\\right) \\left(1 - 0.4 y_{2}\\right) \\left(1 - 0.8 y_{3}\\right) \\left(1 - 0.8 y_{4}\\right) \\left(1 - 0.9 y_{5}\\right) \\left(1 - 0.4 y_{7}\\right) \\left(1 - 0.9 y_{8}\\right) + 0.16 y_{1} y_{7} \\cdot \\left(1 - 0.8 y_{0}\\right) \\left(1 - 0.4 y_{2}\\right) \\left(1 - 0.8 y_{3}\\right) \\left(1 - 0.8 y_{4}\\right) \\left(1 - 0.9 y_{5}\\right) \\left(1 - 0.4 y_{6}\\right) \\left(1 - 0.9 y_{8}\\right) + 0.36 y_{1} y_{8} \\cdot \\left(1 - 0.8 y_{0}\\right) \\left(1 - 0.4 y_{2}\\right) \\left(1 - 0.8 y_{3}\\right) \\left(1 - 0.8 y_{4}\\right) \\left(1 - 0.9 y_{5}\\right) \\left(1 - 0.4 y_{6}\\right) \\left(1 - 0.4 y_{7}\\right) + 0.4 y_{1} \\cdot \\left(1 - 0.8 y_{0}\\right) \\left(1 - 0.4 y_{2}\\right) \\left(1 - 0.8 y_{3}\\right) \\left(1 - 0.8 y_{4}\\right) \\left(1 - 0.9 y_{5}\\right) \\left(1 - 0.4 y_{6}\\right) \\left(1 - 0.4 y_{7}\\right) \\left(1 - 0.9 y_{8}\\right) + 0.32 y_{2} y_{3} \\cdot \\left(1 - 0.8 y_{0}\\right) \\left(1 - 0.4 y_{1}\\right) \\left(1 - 0.8 y_{4}\\right) \\left(1 - 0.9 y_{5}\\right) \\left(1 - 0.4 y_{6}\\right) \\left(1 - 0.4 y_{7}\\right) \\left(1 - 0.9 y_{8}\\right) + 0.32 y_{2} y_{4} \\cdot \\left(1 - 0.8 y_{0}\\right) \\left(1 - 0.4 y_{1}\\right) \\left(1 - 0.8 y_{3}\\right) \\left(1 - 0.9 y_{5}\\right) \\left(1 - 0.4 y_{6}\\right) \\left(1 - 0.4 y_{7}\\right) \\left(1 - 0.9 y_{8}\\right) + 0.36 y_{2} y_{5} \\cdot \\left(1 - 0.8 y_{0}\\right) \\left(1 - 0.4 y_{1}\\right) \\left(1 - 0.8 y_{3}\\right) \\left(1 - 0.8 y_{4}\\right) \\left(1 - 0.4 y_{6}\\right) \\left(1 - 0.4 y_{7}\\right) \\left(1 - 0.9 y_{8}\\right) + 0.16 y_{2} y_{6} \\cdot \\left(1 - 0.8 y_{0}\\right) \\left(1 - 0.4 y_{1}\\right) \\left(1 - 0.8 y_{3}\\right) \\left(1 - 0.8 y_{4}\\right) \\left(1 - 0.9 y_{5}\\right) \\left(1 - 0.4 y_{7}\\right) \\left(1 - 0.9 y_{8}\\right) + 0.16 y_{2} y_{7} \\cdot \\left(1 - 0.8 y_{0}\\right) \\left(1 - 0.4 y_{1}\\right) \\left(1 - 0.8 y_{3}\\right) \\left(1 - 0.8 y_{4}\\right) \\left(1 - 0.9 y_{5}\\right) \\left(1 - 0.4 y_{6}\\right) \\left(1 - 0.9 y_{8}\\right) + 0.36 y_{2} y_{8} \\cdot \\left(1 - 0.8 y_{0}\\right) \\left(1 - 0.4 y_{1}\\right) \\left(1 - 0.8 y_{3}\\right) \\left(1 - 0.8 y_{4}\\right) \\left(1 - 0.9 y_{5}\\right) \\left(1 - 0.4 y_{6}\\right) \\left(1 - 0.4 y_{7}\\right) + 0.4 y_{2} \\cdot \\left(1 - 0.8 y_{0}\\right) \\left(1 - 0.4 y_{1}\\right) \\left(1 - 0.8 y_{3}\\right) \\left(1 - 0.8 y_{4}\\right) \\left(1 - 0.9 y_{5}\\right) \\left(1 - 0.4 y_{6}\\right) \\left(1 - 0.4 y_{7}\\right) \\left(1 - 0.9 y_{8}\\right) + 0.64 y_{3} y_{4} \\cdot \\left(1 - 0.8 y_{0}\\right) \\left(1 - 0.4 y_{1}\\right) \\left(1 - 0.4 y_{2}\\right) \\left(1 - 0.9 y_{5}\\right) \\left(1 - 0.4 y_{6}\\right) \\left(1 - 0.4 y_{7}\\right) \\left(1 - 0.9 y_{8}\\right) + 0.72 y_{3} y_{5} \\cdot \\left(1 - 0.8 y_{0}\\right) \\left(1 - 0.4 y_{1}\\right) \\left(1 - 0.4 y_{2}\\right) \\left(1 - 0.8 y_{4}\\right) \\left(1 - 0.4 y_{6}\\right) \\left(1 - 0.4 y_{7}\\right) \\left(1 - 0.9 y_{8}\\right) + 0.32 y_{3} y_{6} \\cdot \\left(1 - 0.8 y_{0}\\right) \\left(1 - 0.4 y_{1}\\right) \\left(1 - 0.4 y_{2}\\right) \\left(1 - 0.8 y_{4}\\right) \\left(1 - 0.9 y_{5}\\right) \\left(1 - 0.4 y_{7}\\right) \\left(1 - 0.9 y_{8}\\right) + 0.32 y_{3} y_{7} \\cdot \\left(1 - 0.8 y_{0}\\right) \\left(1 - 0.4 y_{1}\\right) \\left(1 - 0.4 y_{2}\\right) \\left(1 - 0.8 y_{4}\\right) \\left(1 - 0.9 y_{5}\\right) \\left(1 - 0.4 y_{6}\\right) \\left(1 - 0.9 y_{8}\\right) + 0.72 y_{3} y_{8} \\cdot \\left(1 - 0.8 y_{0}\\right) \\left(1 - 0.4 y_{1}\\right) \\left(1 - 0.4 y_{2}\\right) \\left(1 - 0.8 y_{4}\\right) \\left(1 - 0.9 y_{5}\\right) \\left(1 - 0.4 y_{6}\\right) \\left(1 - 0.4 y_{7}\\right) + 0.8 y_{3} \\cdot \\left(1 - 0.8 y_{0}\\right) \\left(1 - 0.4 y_{1}\\right) \\left(1 - 0.4 y_{2}\\right) \\left(1 - 0.8 y_{4}\\right) \\left(1 - 0.9 y_{5}\\right) \\left(1 - 0.4 y_{6}\\right) \\left(1 - 0.4 y_{7}\\right) \\left(1 - 0.9 y_{8}\\right) + 0.72 y_{4} y_{5} \\cdot \\left(1 - 0.8 y_{0}\\right) \\left(1 - 0.4 y_{1}\\right) \\left(1 - 0.4 y_{2}\\right) \\left(1 - 0.8 y_{3}\\right) \\left(1 - 0.4 y_{6}\\right) \\left(1 - 0.4 y_{7}\\right) \\left(1 - 0.9 y_{8}\\right) + 0.32 y_{4} y_{6} \\cdot \\left(1 - 0.8 y_{0}\\right) \\left(1 - 0.4 y_{1}\\right) \\left(1 - 0.4 y_{2}\\right) \\left(1 - 0.8 y_{3}\\right) \\left(1 - 0.9 y_{5}\\right) \\left(1 - 0.4 y_{7}\\right) \\left(1 - 0.9 y_{8}\\right) + 0.32 y_{4} y_{7} \\cdot \\left(1 - 0.8 y_{0}\\right) \\left(1 - 0.4 y_{1}\\right) \\left(1 - 0.4 y_{2}\\right) \\left(1 - 0.8 y_{3}\\right) \\left(1 - 0.9 y_{5}\\right) \\left(1 - 0.4 y_{6}\\right) \\left(1 - 0.9 y_{8}\\right) + 0.72 y_{4} y_{8} \\cdot \\left(1 - 0.8 y_{0}\\right) \\left(1 - 0.4 y_{1}\\right) \\left(1 - 0.4 y_{2}\\right) \\left(1 - 0.8 y_{3}\\right) \\left(1 - 0.9 y_{5}\\right) \\left(1 - 0.4 y_{6}\\right) \\left(1 - 0.4 y_{7}\\right) + 0.8 y_{4} \\cdot \\left(1 - 0.8 y_{0}\\right) \\left(1 - 0.4 y_{1}\\right) \\left(1 - 0.4 y_{2}\\right) \\left(1 - 0.8 y_{3}\\right) \\left(1 - 0.9 y_{5}\\right) \\left(1 - 0.4 y_{6}\\right) \\left(1 - 0.4 y_{7}\\right) \\left(1 - 0.9 y_{8}\\right) + 0.36 y_{5} y_{6} \\cdot \\left(1 - 0.8 y_{0}\\right) \\left(1 - 0.4 y_{1}\\right) \\left(1 - 0.4 y_{2}\\right) \\left(1 - 0.8 y_{3}\\right) \\left(1 - 0.8 y_{4}\\right) \\left(1 - 0.4 y_{7}\\right) \\left(1 - 0.9 y_{8}\\right) + 0.36 y_{5} y_{7} \\cdot \\left(1 - 0.8 y_{0}\\right) \\left(1 - 0.4 y_{1}\\right) \\left(1 - 0.4 y_{2}\\right) \\left(1 - 0.8 y_{3}\\right) \\left(1 - 0.8 y_{4}\\right) \\left(1 - 0.4 y_{6}\\right) \\left(1 - 0.9 y_{8}\\right) + 0.81 y_{5} y_{8} \\cdot \\left(1 - 0.8 y_{0}\\right) \\left(1 - 0.4 y_{1}\\right) \\left(1 - 0.4 y_{2}\\right) \\left(1 - 0.8 y_{3}\\right) \\left(1 - 0.8 y_{4}\\right) \\left(1 - 0.4 y_{6}\\right) \\left(1 - 0.4 y_{7}\\right) + 0.9 y_{5} \\cdot \\left(1 - 0.8 y_{0}\\right) \\left(1 - 0.4 y_{1}\\right) \\left(1 - 0.4 y_{2}\\right) \\left(1 - 0.8 y_{3}\\right) \\left(1 - 0.8 y_{4}\\right) \\left(1 - 0.4 y_{6}\\right) \\left(1 - 0.4 y_{7}\\right) \\left(1 - 0.9 y_{8}\\right) + 0.16 y_{6} y_{7} \\cdot \\left(1 - 0.8 y_{0}\\right) \\left(1 - 0.4 y_{1}\\right) \\left(1 - 0.4 y_{2}\\right) \\left(1 - 0.8 y_{3}\\right) \\left(1 - 0.8 y_{4}\\right) \\left(1 - 0.9 y_{5}\\right) \\left(1 - 0.9 y_{8}\\right) + 0.36 y_{6} y_{8} \\cdot \\left(1 - 0.8 y_{0}\\right) \\left(1 - 0.4 y_{1}\\right) \\left(1 - 0.4 y_{2}\\right) \\left(1 - 0.8 y_{3}\\right) \\left(1 - 0.8 y_{4}\\right) \\left(1 - 0.9 y_{5}\\right) \\left(1 - 0.4 y_{7}\\right) + 0.4 y_{6} \\cdot \\left(1 - 0.8 y_{0}\\right) \\left(1 - 0.4 y_{1}\\right) \\left(1 - 0.4 y_{2}\\right) \\left(1 - 0.8 y_{3}\\right) \\left(1 - 0.8 y_{4}\\right) \\left(1 - 0.9 y_{5}\\right) \\left(1 - 0.4 y_{7}\\right) \\left(1 - 0.9 y_{8}\\right) + 0.36 y_{7} y_{8} \\cdot \\left(1 - 0.8 y_{0}\\right) \\left(1 - 0.4 y_{1}\\right) \\left(1 - 0.4 y_{2}\\right) \\left(1 - 0.8 y_{3}\\right) \\left(1 - 0.8 y_{4}\\right) \\left(1 - 0.9 y_{5}\\right) \\left(1 - 0.4 y_{6}\\right) + 0.4 y_{7} \\cdot \\left(1 - 0.8 y_{0}\\right) \\left(1 - 0.4 y_{1}\\right) \\left(1 - 0.4 y_{2}\\right) \\left(1 - 0.8 y_{3}\\right) \\left(1 - 0.8 y_{4}\\right) \\left(1 - 0.9 y_{5}\\right) \\left(1 - 0.4 y_{6}\\right) \\left(1 - 0.9 y_{8}\\right) + 0.9 y_{8} \\cdot \\left(1 - 0.8 y_{0}\\right) \\left(1 - 0.4 y_{1}\\right) \\left(1 - 0.4 y_{2}\\right) \\left(1 - 0.8 y_{3}\\right) \\left(1 - 0.8 y_{4}\\right) \\left(1 - 0.9 y_{5}\\right) \\left(1 - 0.4 y_{6}\\right) \\left(1 - 0.4 y_{7}\\right) + \\left(1 - 0.4 y_{2}\\right) \\left(1 - 0.8 y_{3}\\right) \\left(1 - 0.8 y_{4}\\right) \\left(1 - 0.9 y_{5}\\right) \\left(1 - 0.4 y_{6}\\right) \\left(1 - 0.4 y_{7}\\right) \\left(1 - 0.9 y_{8}\\right) \\left(\\left(1 - 0.4 y_{1}\\right) \\left(2 - 0.8 y_{0}\\right) + 1\\right)\\right)$"
      ],
      "text/plain": [
       "<IPython.core.display.Latex object>"
      ]
     },
     "metadata": {},
     "output_type": "display_data"
    }
   ],
   "source": [
    "# generates a random problem\n",
    "show_revenue_function(10, symbolic_parameters=False)"
   ]
  },
  {
   "cell_type": "code",
   "execution_count": null,
   "id": "67798686",
   "metadata": {},
   "outputs": [],
   "source": []
  }
 ],
 "metadata": {
  "kernelspec": {
   "display_name": "Python 3 (ipykernel)",
   "language": "python",
   "name": "python3"
  },
  "language_info": {
   "codemirror_mode": {
    "name": "ipython",
    "version": 3
   },
   "file_extension": ".py",
   "mimetype": "text/x-python",
   "name": "python",
   "nbconvert_exporter": "python",
   "pygments_lexer": "ipython3",
   "version": "3.11.0"
  }
 },
 "nbformat": 4,
 "nbformat_minor": 5
}
