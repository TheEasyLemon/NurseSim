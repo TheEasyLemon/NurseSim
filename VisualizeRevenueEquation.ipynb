{
 "cells": [
  {
   "cell_type": "markdown",
   "id": "283081e0",
   "metadata": {},
   "source": [
    "# Visualizing the Revenue Equation\n",
    "\n",
    "We want a way to visualize the revenue equation of the revenue management problem. When we take a step in our optimization, we want to see the benefit symbolically.\n",
    "\n",
    "This notebook serves as a playground to work with the problem and visualize the mathematical nature of the optimization."
   ]
  },
  {
   "cell_type": "code",
   "execution_count": 140,
   "id": "8d40af41",
   "metadata": {},
   "outputs": [],
   "source": [
    "# Python stdlib imports\n",
    "from itertools import combinations\n",
    "\n",
    "# library imports\n",
    "import numpy as np\n",
    "from sympy import *\n",
    "from sympy.matrices.dense import matrix_multiply_elementwise\n",
    "\n",
    "# IPython imports (for LaTeX)\n",
    "from IPython.display import display, Latex\n",
    "\n",
    "# pulp (Python LP solver, interfaces with CPLEX/Gurobi/other solvers)\n",
    "from pulp import *"
   ]
  },
  {
   "cell_type": "markdown",
   "id": "2f493fdd",
   "metadata": {},
   "source": [
    "## Symbolic Manipulation Functions"
   ]
  },
  {
   "cell_type": "code",
   "execution_count": 141,
   "id": "7f3e8aaf",
   "metadata": {},
   "outputs": [],
   "source": [
    "def calculate_symbolic_availability(p, y, N, m):\n",
    "    m = len(p)\n",
    "    a = np.triu(np.ones((m, N), dtype=object), 0)\n",
    "\n",
    "    for i in range(1, m):\n",
    "        a[i, 0] = (1 - p[i - 1] * y[i - 1]) * a[i - 1, 0]\n",
    "\n",
    "    # for N_j = 2 and above\n",
    "    for n in range(1, N):\n",
    "        for i in range(n + 1, m):\n",
    "            for tup in combinations(range(i), n):\n",
    "                prob = 1\n",
    "                for k in range(i):\n",
    "                    if k in tup:\n",
    "                        prob *= p[k] * y[k]\n",
    "                    else:\n",
    "                        prob *= (1 - p[k] * y[k])\n",
    "                a[i, n] += prob\n",
    "\n",
    "    a = a.sum(axis=1)\n",
    "\n",
    "    # enforce first N nurses get availability 1\n",
    "    for i in range(N):\n",
    "        a[i] = 1\n",
    "        \n",
    "    return Matrix(a)"
   ]
  },
  {
   "cell_type": "code",
   "execution_count": 142,
   "id": "880dd02c",
   "metadata": {},
   "outputs": [],
   "source": [
    "def display_latex(expr):\n",
    "    display(Latex(f'${latex(expr)}$'))"
   ]
  },
  {
   "cell_type": "code",
   "execution_count": 143,
   "id": "8ce149cc",
   "metadata": {},
   "outputs": [],
   "source": [
    "def show_revenue_function(m, N):\n",
    "    # r - the revenue of the shift\n",
    "    r = symbols('r')\n",
    "    q = Matrix(symbols(f'q1:{m+1}'))\n",
    "    y = Matrix(symbols(f'Y1:{m+1}'))\n",
    "    p = Matrix(symbols(f'p1:{m+1}'))\n",
    "\n",
    "    # now, we calculate availability\n",
    "    a = calculate_symbolic_availability(p, y, N, m)\n",
    "\n",
    "    pq = matrix_multiply_elementwise(p, q)\n",
    "    pqr = pq * r\n",
    "    pqry = matrix_multiply_elementwise(pqr, y)\n",
    "    R = sum(matrix_multiply_elementwise(a, pqry))\n",
    "\n",
    "    # simplify the expression\n",
    "    return expand(simplify(R)), y"
   ]
  },
  {
   "cell_type": "markdown",
   "id": "6c291238",
   "metadata": {},
   "source": [
    "## Experimentation"
   ]
  },
  {
   "cell_type": "code",
   "execution_count": 144,
   "id": "67798686",
   "metadata": {},
   "outputs": [
    {
     "data": {
      "text/latex": [
       "$2 Y_{1} Y_{2} Y_{3} Y_{4} p_{1} p_{2} p_{3} p_{4} q_{4} r - Y_{1} Y_{2} Y_{3} p_{1} p_{2} p_{3} q_{3} r - Y_{1} Y_{2} Y_{4} p_{1} p_{2} p_{4} q_{4} r - Y_{1} Y_{3} Y_{4} p_{1} p_{3} p_{4} q_{4} r + Y_{1} p_{1} q_{1} r - Y_{2} Y_{3} Y_{4} p_{2} p_{3} p_{4} q_{4} r + Y_{2} p_{2} q_{2} r + Y_{3} p_{3} q_{3} r + Y_{4} p_{4} q_{4} r$"
      ],
      "text/plain": [
       "<IPython.core.display.Latex object>"
      ]
     },
     "metadata": {},
     "output_type": "display_data"
    }
   ],
   "source": [
    "r, y = show_revenue_function(4, 2)\n",
    "display_latex(r)\n"
   ]
  }
 ],
 "metadata": {
  "kernelspec": {
   "display_name": "Python 3 (ipykernel)",
   "language": "python",
   "name": "python3"
  },
  "language_info": {
   "codemirror_mode": {
    "name": "ipython",
    "version": 3
   },
   "file_extension": ".py",
   "mimetype": "text/x-python",
   "name": "python",
   "nbconvert_exporter": "python",
   "pygments_lexer": "ipython3",
   "version": "3.11.0"
  }
 },
 "nbformat": 4,
 "nbformat_minor": 5
}
